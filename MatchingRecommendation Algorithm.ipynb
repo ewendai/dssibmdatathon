{
 "cells": [
  {
   "cell_type": "code",
   "execution_count": 1,
   "metadata": {},
   "outputs": [],
   "source": [
    "import pandas as pd\n",
    "import numpy as np\n",
    "from sklearn.metrics.pairwise import cosine_similarity\n",
    "from sklearn.metrics import pairwise_distances"
   ]
  },
  {
   "cell_type": "markdown",
   "metadata": {},
   "source": [
    "Idea: similarity is decided by how much percentage of their budget is used up.\n",
    "\n",
    "| UserID | TipID1 | TipID2 | TipID3 | ... |\n",
    "|--------|------|------|------|-----|\n",
    "| thaer  | 0  | 0 | 1 | ... |\n",
    "| erwoh  | 1 | 1 | 0 | ... |\n",
    "| wobll  | 1 | 0 | 0 | ... |\n",
    "| ...    | ...  | ...  | ...  | ... |\n"
   ]
  },
  {
   "cell_type": "code",
   "execution_count": null,
   "metadata": {},
   "outputs": [],
   "source": [
    "tips = pd.read_csv(\"tips.csv\")\n",
    "Ratings = pd.read_csv(\"ratings.csv\")\n",
    "Tags = pd.read_csv(\"tags.csv\")\n",
    "\n",
    "Mean = Ratings.groupby(by=\"userId\",as_index=False)['rating'].mean()\n",
    "Rating_avg = pd.merge(Ratings,Mean,on='userId')\n",
    "Rating_avg['adg_rating']=Rating_avg['rating_x']-Rating_avg['rating_y']\n",
    "Rating_avg.head()"
   ]
  },
  {
   "cell_type": "code",
   "execution_count": null,
   "metadata": {},
   "outputs": [],
   "source": [
    "check = pd.pivot_table(Rating_avg,values='rating_x',index='userId',columns='movieId')\n",
    "check.head()"
   ]
  },
  {
   "cell_type": "code",
   "execution_count": null,
   "metadata": {},
   "outputs": [],
   "source": [
    "final = pd.pivot_table(Rating_avg,values='adg_rating',index='userId',columns='movieId')\n",
    "final.head()"
   ]
  },
  {
   "cell_type": "code",
   "execution_count": 2,
   "metadata": {},
   "outputs": [
    {
     "ename": "NameError",
     "evalue": "name 'final' is not defined",
     "output_type": "error",
     "traceback": [
      "\u001b[0;31m---------------------------------------------------------------------------\u001b[0m",
      "\u001b[0;31mNameError\u001b[0m                                 Traceback (most recent call last)",
      "\u001b[0;32m<ipython-input-2-380ede09baf9>\u001b[0m in \u001b[0;36m<module>\u001b[0;34m\u001b[0m\n\u001b[1;32m      1\u001b[0m \u001b[0;31m# Replacing NaN by Movie Average\u001b[0m\u001b[0;34m\u001b[0m\u001b[0;34m\u001b[0m\u001b[0;34m\u001b[0m\u001b[0m\n\u001b[0;32m----> 2\u001b[0;31m \u001b[0mfinal_movie\u001b[0m \u001b[0;34m=\u001b[0m \u001b[0mfinal\u001b[0m\u001b[0;34m.\u001b[0m\u001b[0mfillna\u001b[0m\u001b[0;34m(\u001b[0m\u001b[0mfinal\u001b[0m\u001b[0;34m.\u001b[0m\u001b[0mmean\u001b[0m\u001b[0;34m(\u001b[0m\u001b[0maxis\u001b[0m\u001b[0;34m=\u001b[0m\u001b[0;36m0\u001b[0m\u001b[0;34m)\u001b[0m\u001b[0;34m)\u001b[0m\u001b[0;34m\u001b[0m\u001b[0;34m\u001b[0m\u001b[0m\n\u001b[0m\u001b[1;32m      3\u001b[0m \u001b[0;34m\u001b[0m\u001b[0m\n\u001b[1;32m      4\u001b[0m \u001b[0;31m# Replacing NaN by user Average\u001b[0m\u001b[0;34m\u001b[0m\u001b[0;34m\u001b[0m\u001b[0;34m\u001b[0m\u001b[0m\n\u001b[1;32m      5\u001b[0m \u001b[0mfinal_user\u001b[0m \u001b[0;34m=\u001b[0m \u001b[0mfinal\u001b[0m\u001b[0;34m.\u001b[0m\u001b[0mapply\u001b[0m\u001b[0;34m(\u001b[0m\u001b[0;32mlambda\u001b[0m \u001b[0mrow\u001b[0m\u001b[0;34m:\u001b[0m \u001b[0mrow\u001b[0m\u001b[0;34m.\u001b[0m\u001b[0mfillna\u001b[0m\u001b[0;34m(\u001b[0m\u001b[0mrow\u001b[0m\u001b[0;34m.\u001b[0m\u001b[0mmean\u001b[0m\u001b[0;34m(\u001b[0m\u001b[0;34m)\u001b[0m\u001b[0;34m)\u001b[0m\u001b[0;34m,\u001b[0m \u001b[0maxis\u001b[0m\u001b[0;34m=\u001b[0m\u001b[0;36m1\u001b[0m\u001b[0;34m)\u001b[0m\u001b[0;34m\u001b[0m\u001b[0;34m\u001b[0m\u001b[0m\n",
      "\u001b[0;31mNameError\u001b[0m: name 'final' is not defined"
     ]
    }
   ],
   "source": [
    "# Replacing NaN by Movie Average\n",
    "final_tip = final.fillna(final.mean(axis=0))\n",
    "\n",
    "# Replacing NaN by user Average\n",
    "final_user = final.apply(lambda row: row.fillna(row.mean()), axis=1)"
   ]
  },
  {
   "cell_type": "code",
   "execution_count": null,
   "metadata": {},
   "outputs": [],
   "source": [
    "# user similarity on replacing NAN by user avg\n",
    "# b = cosine_similarity(final_user)\n",
    "# np.fill_diagonal(b, 0)\n",
    "# similarity_with_user = pd.DataFrame(b,index=final_user.index)\n",
    "# similarity_with_user.columns=final_user.index\n",
    "# similarity_with_user.head()"
   ]
  },
  {
   "cell_type": "code",
   "execution_count": null,
   "metadata": {},
   "outputs": [],
   "source": [
    "# user similarity on replacing NAN by item(movie) avg\n",
    "cosine = cosine_similarity(final_tip)\n",
    "np.fill_diagonal(cosine, 0 )\n",
    "similarity_with_movie = pd.DataFrame(cosine,index=final_movie.index)\n",
    "similarity_with_movie.columns=final_user.index\n",
    "similarity_with_movie.head()"
   ]
  },
  {
   "cell_type": "code",
   "execution_count": null,
   "metadata": {},
   "outputs": [],
   "source": [
    "def find_n_neighbours(df,n):\n",
    "    order = np.argsort(df.values, axis=1)[:, :n]\n",
    "    df = df.apply(lambda x: pd.Series(x.sort_values(ascending=False)\n",
    "           .iloc[:n].index, \n",
    "          index=['top{}'.format(i) for i in range(1, n+1)]), axis=1)\n",
    "    return df"
   ]
  },
  {
   "cell_type": "code",
   "execution_count": null,
   "metadata": {},
   "outputs": [],
   "source": [
    "# # top 30 neighbours for each user\n",
    "# sim_user_30_u = find_n_neighbours(similarity_with_user,30)\n",
    "# sim_user_30_u.head()"
   ]
  },
  {
   "cell_type": "code",
   "execution_count": null,
   "metadata": {},
   "outputs": [],
   "source": [
    "# top 30 neighbours for each user\n",
    "sim_user_30_m = find_n_neighbours(similarity_with_movie,30)\n",
    "sim_user_30_m.head()"
   ]
  },
  {
   "cell_type": "code",
   "execution_count": null,
   "metadata": {},
   "outputs": [],
   "source": [
    "def get_user_similar_movies( user1, user2 ):\n",
    "    common_movies = Rating_avg[Rating_avg.userId == user1].merge(\n",
    "    Rating_avg[Rating_avg.userId == user2],\n",
    "    on = \"movieId\",\n",
    "    how = \"inner\" )\n",
    "    return common_movies.merge( movies, on = 'movieId' )"
   ]
  },
  {
   "cell_type": "code",
   "execution_count": null,
   "metadata": {},
   "outputs": [],
   "source": [
    "a = get_user_similar_movies(370,86309)\n",
    "a = a.loc[ : , ['rating_x_x','rating_x_y','title']]\n",
    "a.head()"
   ]
  },
  {
   "cell_type": "code",
   "execution_count": null,
   "metadata": {},
   "outputs": [],
   "source": [
    "def User_item_score(user,item):\n",
    "    a = sim_user_30_m[sim_user_30_m.index==user].values\n",
    "    b = a.squeeze().tolist()\n",
    "    c = final_movie.loc[:,item]\n",
    "    d = c[c.index.isin(b)]\n",
    "    f = d[d.notnull()]\n",
    "    avg_user = Mean.loc[Mean['userId'] == user,'rating'].values[0]\n",
    "    index = f.index.values.squeeze().tolist()\n",
    "    corr = similarity_with_movie.loc[user,index]\n",
    "    fin = pd.concat([f, corr], axis=1)\n",
    "    fin.columns = ['adg_score','correlation']\n",
    "    fin['score']=fin.apply(lambda x:x['adg_score'] * x['correlation'],axis=1)\n",
    "    nume = fin['score'].sum()\n",
    "    deno = fin['correlation'].sum()\n",
    "    final_score = avg_user + (nume/deno)\n",
    "    return final_score"
   ]
  },
  {
   "cell_type": "code",
   "execution_count": null,
   "metadata": {},
   "outputs": [],
   "source": [
    "\n",
    "score = User_item_score(320,7371)\n",
    "print(\"score (u,i) is\",score)"
   ]
  },
  {
   "cell_type": "code",
   "execution_count": null,
   "metadata": {},
   "outputs": [],
   "source": [
    "Rating_avg = Rating_avg.astype({\"movieId\": str})\n",
    "Movie_user = Rating_avg.groupby(by = 'userId')['movieId'].apply(lambda x:','.join(x))"
   ]
  },
  {
   "cell_type": "code",
   "execution_count": null,
   "metadata": {},
   "outputs": [],
   "source": [
    "def User_item_score1(user):\n",
    "    Movie_seen_by_user = check.columns[check[check.index==user].notna().any()].tolist()\n",
    "    a = sim_user_30_m[sim_user_30_m.index==user].values\n",
    "    b = a.squeeze().tolist()\n",
    "    d = Movie_user[Movie_user.index.isin(b)]\n",
    "    l = ','.join(d.values)\n",
    "    Movie_seen_by_similar_users = l.split(',')\n",
    "    Movies_under_consideration = list(set(Movie_seen_by_similar_users)-set(list(map(str, Movie_seen_by_user))))\n",
    "    Movies_under_consideration = list(map(int, Movies_under_consideration))\n",
    "    score = []\n",
    "    for item in Movies_under_consideration:\n",
    "        c = final_movie.loc[:,item]\n",
    "        d = c[c.index.isin(b)]\n",
    "        f = d[d.notnull()]\n",
    "        avg_user = Mean.loc[Mean['userId'] == user,'rating'].values[0]\n",
    "        index = f.index.values.squeeze().tolist()\n",
    "        corr = similarity_with_movie.loc[user,index]\n",
    "        fin = pd.concat([f, corr], axis=1)\n",
    "        fin.columns = ['adg_score','correlation']\n",
    "        fin['score']=fin.apply(lambda x:x['adg_score'] * x['correlation'],axis=1)\n",
    "        nume = fin['score'].sum()\n",
    "        deno = fin['correlation'].sum()\n",
    "        final_score = avg_user + (nume/deno)\n",
    "        score.append(final_score)\n",
    "    data = pd.DataFrame({'movieId':Movies_under_consideration,'score':score})\n",
    "    top_5_recommendation = data.sort_values(by='score',ascending=False).head(5)\n",
    "    Movie_Name = top_5_recommendation.merge(movies, how='inner', on='movieId')\n",
    "    Movie_Names = Movie_Name.title.values.tolist()\n",
    "    return Movie_Names"
   ]
  },
  {
   "cell_type": "code",
   "execution_count": null,
   "metadata": {},
   "outputs": [],
   "source": [
    "user = int(input(\"Enter the user id to whom you want to recommend : \"))\n",
    "predicted_movies = User_item_score1(user)\n",
    "print(\" \")\n",
    "print(\"The Recommendations for User Id : 370\")\n",
    "print(\"   \")\n",
    "for i in predicted_movies:\n",
    "    print(i)"
   ]
  },
  {
   "cell_type": "code",
   "execution_count": null,
   "metadata": {},
   "outputs": [],
   "source": []
  },
  {
   "cell_type": "code",
   "execution_count": null,
   "metadata": {},
   "outputs": [],
   "source": []
  },
  {
   "cell_type": "markdown",
   "metadata": {},
   "source": [
    "### References\n",
    "- https://medium.com/sfu-big-data/recommendation-systems-user-based-collaborative-filtering-using-n-nearest-neighbors-bf7361dc24e0\n",
    "- https://github.com/ashaypathak/Recommendation-system/blob/master/Movie_Recommendation.ipynb\n",
    "- https://en.wikipedia.org/wiki/Collaborative_filtering#Memory-based\n",
    "- https://en.wikipedia.org/wiki/Locality-sensitive_hashing\n",
    "- https://pypi.org/project/LocalitySensitiveHashing/\n",
    "- https://www.analyticsvidhya.com/blog/2018/06/comprehensive-guide-recommendation-engine-python/"
   ]
  },
  {
   "cell_type": "markdown",
   "metadata": {},
   "source": [
    "### Ideas for future implementations\n",
    "\n",
    "User-based collaborative filtering so that we will suggest tips based on how much of their budget has been spent (to hopefully avoid having similar tips being recommended to one user) <- also not sure that that is an issue yet. \n",
    "- Idea: similarity is decided by how much percentage of their budget is used up.\n",
    "\n",
    "| UserID | Cat1 | Cat2 | Cat3 | ... |\n",
    "|--------|------|------|------|-----|\n",
    "| thaer  | .734 | .238 | 1.32 | ... |\n",
    "| erwoh  | .781 | .362 | .987 | ... |\n",
    "| wobll  | .294 | .272 | .549 | ... |\n",
    "| ...    | ...  | ...  | ...  | ... |"
   ]
  },
  {
   "cell_type": "code",
   "execution_count": null,
   "metadata": {},
   "outputs": [],
   "source": []
  }
 ],
 "metadata": {
  "kernelspec": {
   "display_name": "Python 3",
   "language": "python",
   "name": "python3"
  },
  "language_info": {
   "codemirror_mode": {
    "name": "ipython",
    "version": 3
   },
   "file_extension": ".py",
   "mimetype": "text/x-python",
   "name": "python",
   "nbconvert_exporter": "python",
   "pygments_lexer": "ipython3",
   "version": "3.6.8"
  }
 },
 "nbformat": 4,
 "nbformat_minor": 2
}
